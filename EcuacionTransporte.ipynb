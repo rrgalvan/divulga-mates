{
 "cells": [
  {
   "cell_type": "code",
   "execution_count": 1,
   "metadata": {},
   "outputs": [],
   "source": [
    "%load_ext autoreload\n",
    "%autoreload 2  # Autoreload all modules"
   ]
  },
  {
   "cell_type": "code",
   "execution_count": 2,
   "metadata": {},
   "outputs": [],
   "source": [
    "import numpy as np\n",
    "import matplotlib.pylab as mpl\n",
    "from volumenes_finitos import *"
   ]
  },
  {
   "cell_type": "code",
   "execution_count": 3,
   "metadata": {},
   "outputs": [],
   "source": [
    "#\n",
    "# 1. Definir datos\n",
    "#\n",
    "a, b = 0, 1 # Intervalo espacial de definición\n",
    "nx = 40 # Número de subintervalos en espacio\n",
    "x_i = np.linspace(a, b, nx) # Vector de puntos espaciales\n",
    "dx = x_i[1]-x_i[0] # Distancia entre los puntos\n",
    "\n",
    "def q0(x): # Población en el instante inicial\n",
    "    return np.exp(-50*(x-0.3)**2)\n",
    "\n",
    "nt = 10 # Número de iteraciones de tiempo\n",
    "dt = 0.02 # Paso en tiempo\n",
    "\n",
    "velocidad=1\n",
    "\n",
    "#\n",
    "# 2. Ejecutar el test y, eventualmente, comprobar los resultados\n",
    "#\n",
    "U = advection1D_Upwind_FVM (a, b, \n",
    "                            beta=velocidad, \n",
    "                            u0=q0(x_i), \n",
    "                            dx=dx, dt=dt, nt=nt,\n",
    "                            verbosity=False\n",
    "                           )\n",
    "\n",
    "comprobar_resultado = False\n",
    "if comprobar_resultado:\n",
    "    for n in range(0,nt,nt//10):\n",
    "        print(\"n =\", n)\n",
    "        mpl.plot(U[n], label=f\"$u_{{{n}}}$\")\n",
    "        mpl.legend()\n",
    "        mpl.show()"
   ]
  },
  {
   "cell_type": "code",
   "execution_count": 54,
   "metadata": {},
   "outputs": [
    {
     "data": {
      "application/vnd.jupyter.widget-view+json": {
       "model_id": "d4a0c7cfebd14ca5b016ebcaa117482f",
       "version_major": 2,
       "version_minor": 0
      },
      "text/plain": [
       "interactive(children=(FloatSlider(value=1.0, description='$\\\\beta$ (velocidad)', max=5.0, step=0.01), BoundedI…"
      ]
     },
     "metadata": {},
     "output_type": "display_data"
    },
    {
     "data": {
      "text/plain": [
       "<function __main__.animacion(beta, nx, nt)>"
      ]
     },
     "execution_count": 54,
     "metadata": {},
     "output_type": "execute_result"
    }
   ],
   "source": [
    "# Import widgets from ipywidgets\n",
    "from ipywidgets import interact_manual, interact\n",
    "import ipywidgets as widgets\n",
    "\n",
    "# Matplotlib includes a function \"animation\"\n",
    "from matplotlib import animation, rc\n",
    "\n",
    "# And in Jupyter we can draw HTML\n",
    "from IPython.display import HTML\n",
    "\n",
    "# Definition of the animation\n",
    "a, b = 0, 1  # Space interval: [a,b]\n",
    "T = 1        # Time interval: [0,T]\n",
    "\n",
    "\n",
    "variacion_total = 0\n",
    "def animacion(beta, nx, nt):\n",
    "    dt = T/nt\n",
    "    C1=1; C2=50; C3=0\n",
    "    R=1; G=0.48; B=0;\n",
    "    width=2\n",
    "    def q0(x): return (C1 * np.exp(-C2*(x-C3)**2))\n",
    "    \n",
    "    x_i = np.linspace(a,b,nx)\n",
    "    dx=x_i[1]-x_i[0]\n",
    "    U = advection1D_Upwind_FVM (a,b, beta, \n",
    "                            u0=q0(x_i), \n",
    "                            dx=dx, dt = dt, nt=nt,\n",
    "                            verbosity=False)\n",
    "    \n",
    "\n",
    "    # The basis:\n",
    "\n",
    "\n",
    "    # First set up the figure, the axis, and the plot element we want to animate\n",
    "    fig, ax = mpl.subplots(figsize=(12,6))\n",
    "    ax.set_xlim( (a, b) )\n",
    "    #   ...we use the initial condition to prepare y-limits\n",
    "    y_m = 1.1*min(U[0])\n",
    "    y_M = 1.1*max(U[0])\n",
    "    ax.set_ylim( (y_m, y_M) )\n",
    "    ax.grid()\n",
    "    x_text, y_text = 0*9*x_i[0]+0.1*x_i[-1], 0.5*(y_m+y_M)\n",
    "    \n",
    "    line, = ax.plot([], [], 'o-', lw=width, color=(R, G, B), markersize=3*width)\n",
    "    #fig.set_size_inches(17, 9, forward=True)\n",
    "    mpl.close(fig)\n",
    "\n",
    "    # Initialization for each frame (it plots the background):\n",
    "    def init():\n",
    "        line.set_data([], [])\n",
    "        return (line,)\n",
    "\n",
    "    # Animation function, which is called for each new frame:\n",
    "    def animate(i):\n",
    "        y_i = U[i]\n",
    "        line.set_data(x_i, y_i)\n",
    "        ax.set_title(f\"Etapa de tiempo {i+1} \\n (tiempo {(i+1)*dt:.2f}, dt={dt:.2f})\")\n",
    "        if(i==nt-1):\n",
    "            var_total = np.var(np.diff(U))/dx\n",
    "            valor_inicial, valor_final = U[0][0], U[-1][-1]\n",
    "            texto = f\"Variación total: {var_total:.2f}\"\n",
    "            texto += f\"\\n\\nValor final: {valor_final:.2f} (difusión: {valor_inicial-valor_final:.2f})\"\n",
    "            color=\"black\"\n",
    "            if var_total < 1:\n",
    "                if valor_final > valor_inicial/2: color=\"green\" \n",
    "            else:\n",
    "                color=\"red\"\n",
    "                texto += \"\\n\\n¡SISTEMA INESTABLE!\"\n",
    "            ax.text(x_text, y_text, texto, size=\"x-large\", color=color)\n",
    "        return (line,)\n",
    "\n",
    "    # Compile the animation. Setting blit=True will only re-draw\n",
    "    # the parts that have changed.\n",
    "    anim = animation.FuncAnimation(fig, animate, init_func=init,\n",
    "                                   frames=nt, interval=100, \n",
    "                                   blit=True, repeat=False)\n",
    "    \n",
    "    # And use JavaScript in HTML to show results\n",
    "    return HTML(anim.to_jshtml())\n",
    "\n",
    "nt_widget = widgets.BoundedIntText(value=60, min=1.0, max=200.0, step=1, description = \"Iteraciones (tiempo)\")\n",
    "nx_widget = widgets.BoundedIntText(value=30, min=0.0, max=100.0, step=1, description = \"Muestras en espacio\")\n",
    "dt_widget = widgets.FloatSlider(value=0.02, min=0.0, max=1.0, step=0.001, description = \"Paso de t\")\n",
    "beta_widget = widgets.FloatSlider(value=1, min=0.0, max=5.0, step=0.01, description = r\"$\\beta$ (velocidad)\")\n",
    "widgets.interact_manual.opts['manual_name'] = 'Ejecutar simulación...'\n",
    "\n",
    "interact_manual(animacion, nx = nx_widget, dt = dt_widget, nt = nt_widget, beta = beta_widget)"
   ]
  },
  {
   "cell_type": "code",
   "execution_count": 13,
   "metadata": {},
   "outputs": [
    {
     "data": {
      "text/plain": [
       "0.10857848718371677"
      ]
     },
     "execution_count": 13,
     "metadata": {},
     "output_type": "execute_result"
    }
   ],
   "source": [
    "np.var(U)"
   ]
  },
  {
   "cell_type": "code",
   "execution_count": null,
   "metadata": {},
   "outputs": [],
   "source": []
  }
 ],
 "metadata": {
  "kernelspec": {
   "display_name": "Python 3",
   "language": "python",
   "name": "python3"
  },
  "language_info": {
   "codemirror_mode": {
    "name": "ipython",
    "version": 3
   },
   "file_extension": ".py",
   "mimetype": "text/x-python",
   "name": "python",
   "nbconvert_exporter": "python",
   "pygments_lexer": "ipython3",
   "version": "3.6.9"
  }
 },
 "nbformat": 4,
 "nbformat_minor": 2
}
